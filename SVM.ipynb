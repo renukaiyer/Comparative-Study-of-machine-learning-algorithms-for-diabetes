{
 "cells": [
  {
   "cell_type": "code",
   "execution_count": 2,
   "id": "c70ddb57",
   "metadata": {},
   "outputs": [],
   "source": [
    "import numpy as np\n",
    "import pandas as pd\n",
    "from sklearn.preprocessing import StandardScaler\n",
    "from sklearn.model_selection import train_test_split\n",
    "from sklearn import svm\n",
    "from sklearn.metrics import accuracy_score"
   ]
  },
  {
   "cell_type": "code",
   "execution_count": 3,
   "id": "b1a2dfe1",
   "metadata": {},
   "outputs": [],
   "source": [
    "diabetes_dataset = pd.read_csv('Final_dataset.csv')"
   ]
  },
  {
   "cell_type": "code",
   "execution_count": 4,
   "id": "973ecc41",
   "metadata": {},
   "outputs": [
    {
     "data": {
      "text/html": [
       "<div>\n",
       "<style scoped>\n",
       "    .dataframe tbody tr th:only-of-type {\n",
       "        vertical-align: middle;\n",
       "    }\n",
       "\n",
       "    .dataframe tbody tr th {\n",
       "        vertical-align: top;\n",
       "    }\n",
       "\n",
       "    .dataframe thead th {\n",
       "        text-align: right;\n",
       "    }\n",
       "</style>\n",
       "<table border=\"1\" class=\"dataframe\">\n",
       "  <thead>\n",
       "    <tr style=\"text-align: right;\">\n",
       "      <th></th>\n",
       "      <th>Pregnancies</th>\n",
       "      <th>Plasma Glucose</th>\n",
       "      <th>Blood Pressure</th>\n",
       "      <th>Skin Thickness</th>\n",
       "      <th>Insulin</th>\n",
       "      <th>BMI</th>\n",
       "      <th>Diabetes Pedigree</th>\n",
       "      <th>Age</th>\n",
       "      <th>Diabetic</th>\n",
       "    </tr>\n",
       "  </thead>\n",
       "  <tbody>\n",
       "    <tr>\n",
       "      <th>0</th>\n",
       "      <td>0</td>\n",
       "      <td>171</td>\n",
       "      <td>80</td>\n",
       "      <td>34</td>\n",
       "      <td>23</td>\n",
       "      <td>43.509726</td>\n",
       "      <td>1.213191</td>\n",
       "      <td>21</td>\n",
       "      <td>0</td>\n",
       "    </tr>\n",
       "    <tr>\n",
       "      <th>1</th>\n",
       "      <td>8</td>\n",
       "      <td>92</td>\n",
       "      <td>93</td>\n",
       "      <td>47</td>\n",
       "      <td>36</td>\n",
       "      <td>21.240576</td>\n",
       "      <td>0.158365</td>\n",
       "      <td>23</td>\n",
       "      <td>0</td>\n",
       "    </tr>\n",
       "    <tr>\n",
       "      <th>2</th>\n",
       "      <td>7</td>\n",
       "      <td>115</td>\n",
       "      <td>47</td>\n",
       "      <td>52</td>\n",
       "      <td>35</td>\n",
       "      <td>41.511523</td>\n",
       "      <td>0.079019</td>\n",
       "      <td>23</td>\n",
       "      <td>0</td>\n",
       "    </tr>\n",
       "    <tr>\n",
       "      <th>3</th>\n",
       "      <td>9</td>\n",
       "      <td>103</td>\n",
       "      <td>78</td>\n",
       "      <td>25</td>\n",
       "      <td>304</td>\n",
       "      <td>29.582192</td>\n",
       "      <td>1.282870</td>\n",
       "      <td>43</td>\n",
       "      <td>1</td>\n",
       "    </tr>\n",
       "    <tr>\n",
       "      <th>4</th>\n",
       "      <td>1</td>\n",
       "      <td>85</td>\n",
       "      <td>59</td>\n",
       "      <td>27</td>\n",
       "      <td>35</td>\n",
       "      <td>42.604536</td>\n",
       "      <td>0.549542</td>\n",
       "      <td>22</td>\n",
       "      <td>0</td>\n",
       "    </tr>\n",
       "  </tbody>\n",
       "</table>\n",
       "</div>"
      ],
      "text/plain": [
       "   Pregnancies  Plasma Glucose  Blood Pressure  Skin Thickness  Insulin  \\\n",
       "0            0             171              80              34       23   \n",
       "1            8              92              93              47       36   \n",
       "2            7             115              47              52       35   \n",
       "3            9             103              78              25      304   \n",
       "4            1              85              59              27       35   \n",
       "\n",
       "         BMI  Diabetes Pedigree  Age  Diabetic  \n",
       "0  43.509726           1.213191   21         0  \n",
       "1  21.240576           0.158365   23         0  \n",
       "2  41.511523           0.079019   23         0  \n",
       "3  29.582192           1.282870   43         1  \n",
       "4  42.604536           0.549542   22         0  "
      ]
     },
     "execution_count": 4,
     "metadata": {},
     "output_type": "execute_result"
    }
   ],
   "source": [
    "diabetes_dataset.head(5)"
   ]
  },
  {
   "cell_type": "code",
   "execution_count": 5,
   "id": "eebad0c2",
   "metadata": {},
   "outputs": [
    {
     "data": {
      "text/plain": [
       "(17768, 9)"
      ]
     },
     "execution_count": 5,
     "metadata": {},
     "output_type": "execute_result"
    }
   ],
   "source": [
    "diabetes_dataset.shape"
   ]
  },
  {
   "cell_type": "code",
   "execution_count": 6,
   "id": "45888822",
   "metadata": {},
   "outputs": [
    {
     "data": {
      "text/html": [
       "<div>\n",
       "<style scoped>\n",
       "    .dataframe tbody tr th:only-of-type {\n",
       "        vertical-align: middle;\n",
       "    }\n",
       "\n",
       "    .dataframe tbody tr th {\n",
       "        vertical-align: top;\n",
       "    }\n",
       "\n",
       "    .dataframe thead th {\n",
       "        text-align: right;\n",
       "    }\n",
       "</style>\n",
       "<table border=\"1\" class=\"dataframe\">\n",
       "  <thead>\n",
       "    <tr style=\"text-align: right;\">\n",
       "      <th></th>\n",
       "      <th>Pregnancies</th>\n",
       "      <th>Plasma Glucose</th>\n",
       "      <th>Blood Pressure</th>\n",
       "      <th>Skin Thickness</th>\n",
       "      <th>Insulin</th>\n",
       "      <th>BMI</th>\n",
       "      <th>Diabetes Pedigree</th>\n",
       "      <th>Age</th>\n",
       "      <th>Diabetic</th>\n",
       "    </tr>\n",
       "  </thead>\n",
       "  <tbody>\n",
       "    <tr>\n",
       "      <th>count</th>\n",
       "      <td>17768.000000</td>\n",
       "      <td>17768.000000</td>\n",
       "      <td>17768.000000</td>\n",
       "      <td>17768.000000</td>\n",
       "      <td>17768.000000</td>\n",
       "      <td>17768.000000</td>\n",
       "      <td>17768.000000</td>\n",
       "      <td>17768.000000</td>\n",
       "      <td>17768.000000</td>\n",
       "    </tr>\n",
       "    <tr>\n",
       "      <th>mean</th>\n",
       "      <td>3.305268</td>\n",
       "      <td>109.920362</td>\n",
       "      <td>70.895655</td>\n",
       "      <td>27.569338</td>\n",
       "      <td>128.859523</td>\n",
       "      <td>31.607440</td>\n",
       "      <td>0.410219</td>\n",
       "      <td>30.604232</td>\n",
       "      <td>0.334984</td>\n",
       "    </tr>\n",
       "    <tr>\n",
       "      <th>std</th>\n",
       "      <td>3.385764</td>\n",
       "      <td>32.348240</td>\n",
       "      <td>17.183449</td>\n",
       "      <td>15.080551</td>\n",
       "      <td>131.722658</td>\n",
       "      <td>9.518938</td>\n",
       "      <td>0.371202</td>\n",
       "      <td>12.090103</td>\n",
       "      <td>0.471998</td>\n",
       "    </tr>\n",
       "    <tr>\n",
       "      <th>min</th>\n",
       "      <td>0.000000</td>\n",
       "      <td>0.000000</td>\n",
       "      <td>0.000000</td>\n",
       "      <td>0.000000</td>\n",
       "      <td>0.000000</td>\n",
       "      <td>0.000000</td>\n",
       "      <td>0.078000</td>\n",
       "      <td>21.000000</td>\n",
       "      <td>0.000000</td>\n",
       "    </tr>\n",
       "    <tr>\n",
       "      <th>25%</th>\n",
       "      <td>0.000000</td>\n",
       "      <td>86.000000</td>\n",
       "      <td>59.000000</td>\n",
       "      <td>14.000000</td>\n",
       "      <td>34.000000</td>\n",
       "      <td>21.589648</td>\n",
       "      <td>0.146095</td>\n",
       "      <td>22.000000</td>\n",
       "      <td>0.000000</td>\n",
       "    </tr>\n",
       "    <tr>\n",
       "      <th>50%</th>\n",
       "      <td>2.000000</td>\n",
       "      <td>107.000000</td>\n",
       "      <td>72.000000</td>\n",
       "      <td>29.000000</td>\n",
       "      <td>78.000000</td>\n",
       "      <td>31.900000</td>\n",
       "      <td>0.236038</td>\n",
       "      <td>25.000000</td>\n",
       "      <td>0.000000</td>\n",
       "    </tr>\n",
       "    <tr>\n",
       "      <th>75%</th>\n",
       "      <td>6.000000</td>\n",
       "      <td>132.000000</td>\n",
       "      <td>84.000000</td>\n",
       "      <td>40.000000</td>\n",
       "      <td>188.000000</td>\n",
       "      <td>38.900337</td>\n",
       "      <td>0.618056</td>\n",
       "      <td>37.000000</td>\n",
       "      <td>1.000000</td>\n",
       "    </tr>\n",
       "    <tr>\n",
       "      <th>max</th>\n",
       "      <td>17.000000</td>\n",
       "      <td>199.000000</td>\n",
       "      <td>122.000000</td>\n",
       "      <td>110.000000</td>\n",
       "      <td>846.000000</td>\n",
       "      <td>80.600000</td>\n",
       "      <td>2.420000</td>\n",
       "      <td>81.000000</td>\n",
       "      <td>1.000000</td>\n",
       "    </tr>\n",
       "  </tbody>\n",
       "</table>\n",
       "</div>"
      ],
      "text/plain": [
       "        Pregnancies  Plasma Glucose  Blood Pressure  Skin Thickness  \\\n",
       "count  17768.000000    17768.000000    17768.000000    17768.000000   \n",
       "mean       3.305268      109.920362       70.895655       27.569338   \n",
       "std        3.385764       32.348240       17.183449       15.080551   \n",
       "min        0.000000        0.000000        0.000000        0.000000   \n",
       "25%        0.000000       86.000000       59.000000       14.000000   \n",
       "50%        2.000000      107.000000       72.000000       29.000000   \n",
       "75%        6.000000      132.000000       84.000000       40.000000   \n",
       "max       17.000000      199.000000      122.000000      110.000000   \n",
       "\n",
       "            Insulin           BMI  Diabetes Pedigree           Age  \\\n",
       "count  17768.000000  17768.000000       17768.000000  17768.000000   \n",
       "mean     128.859523     31.607440           0.410219     30.604232   \n",
       "std      131.722658      9.518938           0.371202     12.090103   \n",
       "min        0.000000      0.000000           0.078000     21.000000   \n",
       "25%       34.000000     21.589648           0.146095     22.000000   \n",
       "50%       78.000000     31.900000           0.236038     25.000000   \n",
       "75%      188.000000     38.900337           0.618056     37.000000   \n",
       "max      846.000000     80.600000           2.420000     81.000000   \n",
       "\n",
       "           Diabetic  \n",
       "count  17768.000000  \n",
       "mean       0.334984  \n",
       "std        0.471998  \n",
       "min        0.000000  \n",
       "25%        0.000000  \n",
       "50%        0.000000  \n",
       "75%        1.000000  \n",
       "max        1.000000  "
      ]
     },
     "execution_count": 6,
     "metadata": {},
     "output_type": "execute_result"
    }
   ],
   "source": [
    "diabetes_dataset.describe()"
   ]
  },
  {
   "cell_type": "code",
   "execution_count": 8,
   "id": "ed277dcb",
   "metadata": {},
   "outputs": [
    {
     "data": {
      "text/plain": [
       "0    11816\n",
       "1     5952\n",
       "Name: Diabetic, dtype: int64"
      ]
     },
     "execution_count": 8,
     "metadata": {},
     "output_type": "execute_result"
    }
   ],
   "source": [
    "diabetes_dataset['Diabetic'].value_counts()"
   ]
  },
  {
   "cell_type": "code",
   "execution_count": 9,
   "id": "0f5812c7",
   "metadata": {},
   "outputs": [
    {
     "data": {
      "text/html": [
       "<div>\n",
       "<style scoped>\n",
       "    .dataframe tbody tr th:only-of-type {\n",
       "        vertical-align: middle;\n",
       "    }\n",
       "\n",
       "    .dataframe tbody tr th {\n",
       "        vertical-align: top;\n",
       "    }\n",
       "\n",
       "    .dataframe thead th {\n",
       "        text-align: right;\n",
       "    }\n",
       "</style>\n",
       "<table border=\"1\" class=\"dataframe\">\n",
       "  <thead>\n",
       "    <tr style=\"text-align: right;\">\n",
       "      <th></th>\n",
       "      <th>Pregnancies</th>\n",
       "      <th>Plasma Glucose</th>\n",
       "      <th>Blood Pressure</th>\n",
       "      <th>Skin Thickness</th>\n",
       "      <th>Insulin</th>\n",
       "      <th>BMI</th>\n",
       "      <th>Diabetes Pedigree</th>\n",
       "      <th>Age</th>\n",
       "    </tr>\n",
       "    <tr>\n",
       "      <th>Diabetic</th>\n",
       "      <th></th>\n",
       "      <th></th>\n",
       "      <th></th>\n",
       "      <th></th>\n",
       "      <th></th>\n",
       "      <th></th>\n",
       "      <th></th>\n",
       "      <th></th>\n",
       "    </tr>\n",
       "  </thead>\n",
       "  <tbody>\n",
       "    <tr>\n",
       "      <th>0</th>\n",
       "      <td>2.394888</td>\n",
       "      <td>105.800948</td>\n",
       "      <td>69.828368</td>\n",
       "      <td>26.122630</td>\n",
       "      <td>107.737221</td>\n",
       "      <td>30.124359</td>\n",
       "      <td>0.36573</td>\n",
       "      <td>27.808734</td>\n",
       "    </tr>\n",
       "    <tr>\n",
       "      <th>1</th>\n",
       "      <td>5.112567</td>\n",
       "      <td>118.098286</td>\n",
       "      <td>73.014449</td>\n",
       "      <td>30.441364</td>\n",
       "      <td>170.791835</td>\n",
       "      <td>34.551675</td>\n",
       "      <td>0.49854</td>\n",
       "      <td>36.153898</td>\n",
       "    </tr>\n",
       "  </tbody>\n",
       "</table>\n",
       "</div>"
      ],
      "text/plain": [
       "          Pregnancies  Plasma Glucose  Blood Pressure  Skin Thickness  \\\n",
       "Diabetic                                                                \n",
       "0            2.394888      105.800948       69.828368       26.122630   \n",
       "1            5.112567      118.098286       73.014449       30.441364   \n",
       "\n",
       "             Insulin        BMI  Diabetes Pedigree        Age  \n",
       "Diabetic                                                       \n",
       "0         107.737221  30.124359            0.36573  27.808734  \n",
       "1         170.791835  34.551675            0.49854  36.153898  "
      ]
     },
     "execution_count": 9,
     "metadata": {},
     "output_type": "execute_result"
    }
   ],
   "source": [
    "#get the mean for all those 0 and 1\n",
    "diabetes_dataset.groupby('Diabetic').mean()"
   ]
  },
  {
   "cell_type": "code",
   "execution_count": 10,
   "id": "437840ee",
   "metadata": {},
   "outputs": [],
   "source": [
    "#separating the data and labels\n",
    "X = diabetes_dataset.drop(columns = 'Diabetic', axis=1)\n",
    "Y = diabetes_dataset['Diabetic']"
   ]
  },
  {
   "cell_type": "code",
   "execution_count": 11,
   "id": "28b64678",
   "metadata": {},
   "outputs": [
    {
     "name": "stdout",
     "output_type": "stream",
     "text": [
      "       Pregnancies  Plasma Glucose  Blood Pressure  Skin Thickness  Insulin  \\\n",
      "0                0             171              80              34       23   \n",
      "1                8              92              93              47       36   \n",
      "2                7             115              47              52       35   \n",
      "3                9             103              78              25      304   \n",
      "4                1              85              59              27       35   \n",
      "...            ...             ...             ...             ...      ...   \n",
      "17763            2              75              64              24       55   \n",
      "17764            8             179              72              42      130   \n",
      "17765            6              85              78               0        0   \n",
      "17766            0             129             110              46      130   \n",
      "17767            2              81              72              15       76   \n",
      "\n",
      "             BMI  Diabetes Pedigree  Age  \n",
      "0      43.509726           1.213191   21  \n",
      "1      21.240576           0.158365   23  \n",
      "2      41.511523           0.079019   23  \n",
      "3      29.582192           1.282870   43  \n",
      "4      42.604536           0.549542   22  \n",
      "...          ...                ...  ...  \n",
      "17763  29.700000           0.370000   33  \n",
      "17764  32.700000           0.719000   36  \n",
      "17765  31.200000           0.382000   42  \n",
      "17766  67.100000           0.319000   26  \n",
      "17767  30.100000           0.547000   25  \n",
      "\n",
      "[17768 rows x 8 columns]\n"
     ]
    }
   ],
   "source": [
    "print(X)"
   ]
  },
  {
   "cell_type": "code",
   "execution_count": 12,
   "id": "f13a82df",
   "metadata": {},
   "outputs": [
    {
     "name": "stdout",
     "output_type": "stream",
     "text": [
      "0        0\n",
      "1        0\n",
      "2        0\n",
      "3        1\n",
      "4        0\n",
      "        ..\n",
      "17763    0\n",
      "17764    1\n",
      "17765    0\n",
      "17766    1\n",
      "17767    0\n",
      "Name: Diabetic, Length: 17768, dtype: int64\n"
     ]
    }
   ],
   "source": [
    "print (Y)"
   ]
  },
  {
   "cell_type": "code",
   "execution_count": 13,
   "id": "291c248e",
   "metadata": {},
   "outputs": [],
   "source": [
    "#data standardization\n",
    "\n",
    "scaler = StandardScaler()"
   ]
  },
  {
   "cell_type": "code",
   "execution_count": 14,
   "id": "ce7e6ba4",
   "metadata": {},
   "outputs": [
    {
     "data": {
      "text/plain": [
       "StandardScaler()"
      ]
     },
     "execution_count": 14,
     "metadata": {},
     "output_type": "execute_result"
    }
   ],
   "source": [
    "scaler.fit(X)"
   ]
  },
  {
   "cell_type": "code",
   "execution_count": 15,
   "id": "ab29a156",
   "metadata": {},
   "outputs": [],
   "source": [
    "standardized_data = scaler.transform(X)"
   ]
  },
  {
   "cell_type": "code",
   "execution_count": 16,
   "id": "87769fd0",
   "metadata": {},
   "outputs": [
    {
     "name": "stdout",
     "output_type": "stream",
     "text": [
      "[[-0.97625251  1.88824357  0.52984712 ...  1.25041481  2.1632265\n",
      "  -0.79441031]\n",
      " [ 1.38664827 -0.5539982   1.28641035 ... -1.08910845 -0.67850188\n",
      "  -0.62898109]\n",
      " [ 1.09128567  0.15703422 -1.39065954 ...  1.04049027 -0.89226309\n",
      "  -0.62898109]\n",
      " ...\n",
      " [ 0.79592307 -0.77039937  0.41345278 ... -0.04280428 -0.0760236\n",
      "   0.94259645]\n",
      " [-0.97625251  0.58983655  2.27576227 ...  3.72873097 -0.24574716\n",
      "  -0.38083727]\n",
      " [-0.38552732 -0.89405718  0.06426975 ... -0.15836664  0.36849049\n",
      "  -0.46355188]]\n"
     ]
    }
   ],
   "source": [
    "print (standardized_data)"
   ]
  },
  {
   "cell_type": "code",
   "execution_count": 17,
   "id": "97b90757",
   "metadata": {},
   "outputs": [],
   "source": [
    "X = standardized_data\n",
    "Y = diabetes_dataset['Diabetic']"
   ]
  },
  {
   "cell_type": "code",
   "execution_count": 18,
   "id": "612ac548",
   "metadata": {},
   "outputs": [
    {
     "name": "stdout",
     "output_type": "stream",
     "text": [
      "[[-0.97625251  1.88824357  0.52984712 ...  1.25041481  2.1632265\n",
      "  -0.79441031]\n",
      " [ 1.38664827 -0.5539982   1.28641035 ... -1.08910845 -0.67850188\n",
      "  -0.62898109]\n",
      " [ 1.09128567  0.15703422 -1.39065954 ...  1.04049027 -0.89226309\n",
      "  -0.62898109]\n",
      " ...\n",
      " [ 0.79592307 -0.77039937  0.41345278 ... -0.04280428 -0.0760236\n",
      "   0.94259645]\n",
      " [-0.97625251  0.58983655  2.27576227 ...  3.72873097 -0.24574716\n",
      "  -0.38083727]\n",
      " [-0.38552732 -0.89405718  0.06426975 ... -0.15836664  0.36849049\n",
      "  -0.46355188]]\n",
      "0        0\n",
      "1        0\n",
      "2        0\n",
      "3        1\n",
      "4        0\n",
      "        ..\n",
      "17763    0\n",
      "17764    1\n",
      "17765    0\n",
      "17766    1\n",
      "17767    0\n",
      "Name: Diabetic, Length: 17768, dtype: int64\n"
     ]
    }
   ],
   "source": [
    "print (X)\n",
    "print (Y)"
   ]
  },
  {
   "cell_type": "code",
   "execution_count": 19,
   "id": "70dd822e",
   "metadata": {},
   "outputs": [],
   "source": [
    "#test and train split\n",
    "\n",
    "X_train, X_test, Y_train, Y_test = train_test_split(X,Y, test_size=0.2, stratify=Y, random_state=2)"
   ]
  },
  {
   "cell_type": "code",
   "execution_count": 20,
   "id": "c413d30d",
   "metadata": {},
   "outputs": [
    {
     "name": "stdout",
     "output_type": "stream",
     "text": [
      "(17768, 8) (14214, 8) (3554, 8)\n"
     ]
    }
   ],
   "source": [
    "print (X.shape, X_train.shape, X_test.shape)"
   ]
  },
  {
   "cell_type": "code",
   "execution_count": 21,
   "id": "7bb7713b",
   "metadata": {},
   "outputs": [],
   "source": [
    "# training the model\n",
    "\n",
    "classifier = svm.SVC(kernel='linear')"
   ]
  },
  {
   "cell_type": "code",
   "execution_count": 22,
   "id": "060a24ea",
   "metadata": {},
   "outputs": [
    {
     "data": {
      "text/plain": [
       "SVC(kernel='linear')"
      ]
     },
     "execution_count": 22,
     "metadata": {},
     "output_type": "execute_result"
    }
   ],
   "source": [
    "#training the SVM Classifier\n",
    "\n",
    "classifier.fit(X_train, Y_train)"
   ]
  },
  {
   "cell_type": "code",
   "execution_count": 24,
   "id": "0bfa65b1",
   "metadata": {},
   "outputs": [],
   "source": [
    "# model evaluation\n",
    "# accuracy score\n",
    "\n",
    "X_train_prediction = classifier.predict(X_train)\n",
    "training_data_accuracy = accuracy_score(X_train_prediction, Y_train)"
   ]
  },
  {
   "cell_type": "code",
   "execution_count": 27,
   "id": "498931da",
   "metadata": {},
   "outputs": [
    {
     "name": "stdout",
     "output_type": "stream",
     "text": [
      "Accuracy score of the training data : 0.7761362037427888\n"
     ]
    }
   ],
   "source": [
    "print('Accuracy score of the training data :', training_data_accuracy)"
   ]
  },
  {
   "cell_type": "code",
   "execution_count": 28,
   "id": "42b8600d",
   "metadata": {},
   "outputs": [],
   "source": [
    "# accuracy of the test data\n",
    "\n",
    "X_test_prediction = classifier.predict(X_test)\n",
    "test_data_accuracy = accuracy_score(X_test_prediction, Y_test)"
   ]
  },
  {
   "cell_type": "code",
   "execution_count": 29,
   "id": "e19df465",
   "metadata": {},
   "outputs": [
    {
     "name": "stdout",
     "output_type": "stream",
     "text": [
      "Accuracy score of the test data : 0.7743387732132808\n"
     ]
    }
   ],
   "source": [
    "print('Accuracy score of the test data :', test_data_accuracy)"
   ]
  },
  {
   "cell_type": "code",
   "execution_count": 34,
   "id": "4073e0ae",
   "metadata": {},
   "outputs": [
    {
     "name": "stdout",
     "output_type": "stream",
     "text": [
      "[[-0.97625251  2.16647364 -0.28491328 -0.56825374 -0.97829145  1.091808\n",
      "   3.99464784 -0.46355188]]\n",
      "[1]\n",
      "The person is Diabetic\n"
     ]
    },
    {
     "name": "stderr",
     "output_type": "stream",
     "text": [
      "C:\\Users\\SHRADDHA\\AppData\\Local\\Programs\\Python\\Python310\\lib\\site-packages\\sklearn\\base.py:450: UserWarning: X does not have valid feature names, but StandardScaler was fitted with feature names\n",
      "  warnings.warn(\n"
     ]
    }
   ],
   "source": [
    "# making a predictive system \n",
    "\n",
    "input_data = (0,180,66,19,0,42,1.893,25)\n",
    "\n",
    "#changing the input_data to numpy array\n",
    "input_data_as_numpy_array = np.asarray(input_data)\n",
    "\n",
    "#reshape the array as we are predicting for one instance\n",
    "input_data_reshaped = input_data_as_numpy_array.reshape(1,-1)\n",
    "\n",
    "#standardize the input data\n",
    "std_data = scaler.transform(input_data_reshaped)\n",
    "print(std_data)\n",
    "\n",
    "prediction = classifier.predict(std_data)\n",
    "print(prediction)\n",
    "\n",
    "if(prediction[0] ==0):\n",
    "    print('The person is not Diabetic')\n",
    "else:\n",
    "    print('The person is Diabetic')"
   ]
  },
  {
   "cell_type": "code",
   "execution_count": null,
   "id": "ec1df9de",
   "metadata": {},
   "outputs": [],
   "source": []
  }
 ],
 "metadata": {
  "kernelspec": {
   "display_name": "Python 3 (ipykernel)",
   "language": "python",
   "name": "python3"
  },
  "language_info": {
   "codemirror_mode": {
    "name": "ipython",
    "version": 3
   },
   "file_extension": ".py",
   "mimetype": "text/x-python",
   "name": "python",
   "nbconvert_exporter": "python",
   "pygments_lexer": "ipython3",
   "version": "3.10.1"
  }
 },
 "nbformat": 4,
 "nbformat_minor": 5
}
